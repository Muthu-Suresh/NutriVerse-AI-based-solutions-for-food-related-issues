{
 "cells": [
  {
   "cell_type": "code",
   "execution_count": 1,
   "id": "a500e77f",
   "metadata": {},
   "outputs": [
    {
     "name": "stdout",
     "output_type": "stream",
     "text": [
      "Requirement already satisfied: fuzzywuzzy in c:\\users\\muthu\\appdata\\local\\programs\\python\\python312\\lib\\site-packages (0.18.0)\n"
     ]
    },
    {
     "name": "stderr",
     "output_type": "stream",
     "text": [
      "\n",
      "[notice] A new release of pip is available: 24.2 -> 25.0.1\n",
      "[notice] To update, run: python.exe -m pip install --upgrade pip\n"
     ]
    }
   ],
   "source": [
    "!pip install fuzzywuzzy\n"
   ]
  },
  {
   "cell_type": "code",
   "execution_count": 2,
   "id": "7a370560",
   "metadata": {},
   "outputs": [
    {
     "name": "stderr",
     "output_type": "stream",
     "text": [
      "c:\\Users\\muthu\\AppData\\Local\\Programs\\Python\\Python312\\Lib\\site-packages\\fuzzywuzzy\\fuzz.py:11: UserWarning: Using slow pure-python SequenceMatcher. Install python-Levenshtein to remove this warning\n",
      "  warnings.warn('Using slow pure-python SequenceMatcher. Install python-Levenshtein to remove this warning')\n"
     ]
    },
    {
     "name": "stdout",
     "output_type": "stream",
     "text": [
      "\n",
      "Model Accuracy: 100.00%\n",
      "\n",
      "Enter user details:\n",
      "Interpreted 'Male' as 'Male' for column 'Gender'\n",
      "Interpreted 'Very active' as 'Very active' for column 'Activity Level'\n",
      "Interpreted 'Weight Loss' as 'Weight Loss' for column 'Goal'\n",
      "Interpreted 'Hypertension' as 'Hypertension' for column 'Medical Conditions'\n",
      "Interpreted 'Dairy' as 'Dairy' for column 'Allergies'\n",
      "Interpreted 'Vegetarian' as 'Vegetarian' for column 'Dietary Preference'\n",
      "Interpreted 'Bihar' as 'Bihar' for column 'Region'\n",
      "No matching state found. Suggestion may not be optimal.\n",
      "\n",
      "Suggested Meal Plan: {'Breakfast': 'Vegetable sandwich', 'Lunch': 'Spinach and corn pasta', 'Dinner': 'Dal with rice', 'Snack 1': 'Carrot sticks with hummus', 'Snack 2': 'Trail mix'}\n"
     ]
    }
   ],
   "source": [
    "import pandas as pd\n",
    "import numpy as np\n",
    "import random\n",
    "from sklearn.preprocessing import LabelEncoder\n",
    "from collections import defaultdict\n",
    "from sklearn.metrics import accuracy_score\n",
    "from fuzzywuzzy import process  # NLP spelling correction\n",
    "\n",
    "# Load dataset\n",
    "df = pd.read_csv(\"C:/Users/muthu/Downloads/regionally_valid_diet_meal_plan (1).csv\")\n",
    "\n",
    "# Updated input columns including 'Region'\n",
    "input_cols = ['Age', 'Gender', 'BMI', 'Activity Level', 'Goal', 'Medical Conditions', 'Allergies', 'Dietary Preference', 'Region']\n",
    "meal_cols = ['Breakfast', 'Lunch', 'Dinner', 'Snack 1', 'Snack 2']\n",
    "\n",
    "# Encode categorical columns for input\n",
    "le_dict = {}\n",
    "for col in input_cols:\n",
    "    if df[col].dtype == 'object':\n",
    "        le = LabelEncoder()\n",
    "        df[col] = le.fit_transform(df[col].astype(str))\n",
    "        le_dict[col] = le\n",
    "\n",
    "# Combine all meals into one string\n",
    "df['Meal Plan'] = df[meal_cols].agg('|'.join, axis=1)\n",
    "meal_encoder = LabelEncoder()\n",
    "df['Meal Plan Encoded'] = meal_encoder.fit_transform(df['Meal Plan'])\n",
    "\n",
    "# Q-Learning Setup\n",
    "states = df[input_cols].astype(str).agg('-'.join, axis=1).values\n",
    "actions = df['Meal Plan Encoded'].values\n",
    "\n",
    "# Initialize Q-table\n",
    "Q = defaultdict(lambda: np.zeros(len(meal_encoder.classes_)))\n",
    "\n",
    "# Q-Learning Parameters\n",
    "epsilon = 0.1  # Exploration rate\n",
    "alpha = 0.5    # Learning rate\n",
    "gamma = 0.9    # Discount factor\n",
    "epochs = 10\n",
    "\n",
    "# Training loop\n",
    "for _ in range(epochs):\n",
    "    for i in range(len(states)):\n",
    "        state = states[i]\n",
    "        action = actions[i]\n",
    "        reward = 1  # Static reward; can be made dynamic\n",
    "\n",
    "        if random.uniform(0, 1) < epsilon:\n",
    "            next_action = random.randint(0, len(meal_encoder.classes_) - 1)\n",
    "        else:\n",
    "            next_action = np.argmax(Q[state])\n",
    "\n",
    "        Q[state][action] += alpha * (reward + gamma * np.max(Q[state]) - Q[state][action])\n",
    "\n",
    "# Inference function with fuzzy NLP correction\n",
    "def suggest_meal():\n",
    "    print(\"\\nEnter user details:\")\n",
    "    user_input = {}\n",
    "\n",
    "    for col in input_cols:\n",
    "        value = input(f\"{col}: \")\n",
    "        if col in le_dict:\n",
    "            known_values = list(le_dict[col].classes_)\n",
    "            best_match, score = process.extractOne(value, known_values)\n",
    "            if score >= 80:  # Fuzzy threshold\n",
    "                print(f\"Interpreted '{value}' as '{best_match}' for column '{col}'\")\n",
    "                value = best_match\n",
    "                value = le_dict[col].transform([value])[0]\n",
    "            else:\n",
    "                print(f\"Value '{value}' not recognized for {col}. Try values like: {known_values}\")\n",
    "                return\n",
    "        else:\n",
    "            try:\n",
    "                value = float(value)\n",
    "            except ValueError:\n",
    "                print(f\"Invalid numeric input for {col}\")\n",
    "                return\n",
    "        user_input[col] = value\n",
    "\n",
    "    state_str = '-'.join([str(user_input[col]) for col in input_cols])\n",
    "\n",
    "    if state_str not in Q:\n",
    "        print(\"No matching state found. Suggestion may not be optimal.\")\n",
    "        best_action = random.randint(0, len(meal_encoder.classes_) - 1)\n",
    "    else:\n",
    "        best_action = np.argmax(Q[state_str])\n",
    "\n",
    "    meal_plan = meal_encoder.inverse_transform([best_action])[0]\n",
    "    breakfast, lunch, dinner, snack1, snack2 = meal_plan.split('|')\n",
    "    return {\n",
    "        'Breakfast': breakfast,\n",
    "        'Lunch': lunch,\n",
    "        'Dinner': dinner,\n",
    "        'Snack 1': snack1,\n",
    "        'Snack 2': snack2\n",
    "    }\n",
    "\n",
    "# Evaluate model accuracy\n",
    "y_true = actions\n",
    "y_pred = [np.argmax(Q[state]) for state in states]\n",
    "accuracy = accuracy_score(y_true, y_pred)\n",
    "print(f\"\\nModel Accuracy: {accuracy * 100:.2f}%\")\n",
    "\n",
    "# Interactive suggestion\n",
    "result = suggest_meal()\n",
    "if result:\n",
    "    print(\"\\nSuggested Meal Plan:\", result)\n"
   ]
  },
  {
   "cell_type": "code",
   "execution_count": null,
   "id": "38f315f3",
   "metadata": {},
   "outputs": [],
   "source": []
  }
 ],
 "metadata": {
  "kernelspec": {
   "display_name": "Python 3",
   "language": "python",
   "name": "python3"
  },
  "language_info": {
   "codemirror_mode": {
    "name": "ipython",
    "version": 3
   },
   "file_extension": ".py",
   "mimetype": "text/x-python",
   "name": "python",
   "nbconvert_exporter": "python",
   "pygments_lexer": "ipython3",
   "version": "3.12.5"
  }
 },
 "nbformat": 4,
 "nbformat_minor": 5
}
