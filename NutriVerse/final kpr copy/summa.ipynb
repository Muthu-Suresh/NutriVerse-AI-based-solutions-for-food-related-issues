{
 "cells": [
  {
   "cell_type": "code",
   "execution_count": 1,
   "id": "3298cd04",
   "metadata": {},
   "outputs": [
    {
     "data": {
      "text/plain": [
       "['diet_KPR.pkl']"
      ]
     },
     "execution_count": 1,
     "metadata": {},
     "output_type": "execute_result"
    }
   ],
   "source": [
    "import joblib\n",
    "joblib.dump(\"diet KPR.ipynb\", 'diet_KPR.pkl')"
   ]
  },
  {
   "cell_type": "code",
   "execution_count": 2,
   "id": "ce7472f0",
   "metadata": {},
   "outputs": [
    {
     "data": {
      "text/plain": [
       "['nutricient_model.pkl']"
      ]
     },
     "execution_count": 2,
     "metadata": {},
     "output_type": "execute_result"
    }
   ],
   "source": [
    "import joblib\n",
    "joblib.dump(\"nutricient KPR .ipynb\", 'nutricient_model.pkl')"
   ]
  },
  {
   "cell_type": "code",
   "execution_count": null,
   "id": "3cfbfba0",
   "metadata": {},
   "outputs": [],
   "source": []
  }
 ],
 "metadata": {
  "kernelspec": {
   "display_name": "new_env",
   "language": "python",
   "name": "python3"
  },
  "language_info": {
   "codemirror_mode": {
    "name": "ipython",
    "version": 3
   },
   "file_extension": ".py",
   "mimetype": "text/x-python",
   "name": "python",
   "nbconvert_exporter": "python",
   "pygments_lexer": "ipython3",
   "version": "3.8.20"
  }
 },
 "nbformat": 4,
 "nbformat_minor": 5
}
